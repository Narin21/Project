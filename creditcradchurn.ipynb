{
 "cells": [
  {
   "cell_type": "markdown",
   "metadata": {},
   "source": [
    "# Data Preparation"
   ]
  },
  {
   "cell_type": "code",
   "execution_count": null,
   "metadata": {},
   "outputs": [],
   "source": [
    "import pandas as pd\n",
    "import numpy as np\n",
    "import seaborn as sns\n",
    "import matplotlib.pyplot as plt\n",
    "import datetime\n",
    "from sklearn.linear_model import LogisticRegression\n",
    "from sklearn.model_selection import train_test_split"
   ]
  },
  {
   "cell_type": "code",
   "execution_count": null,
   "metadata": {},
   "outputs": [],
   "source": [
    "train=pd.read_csv('y_train.csv')\n",
    "custinfo=pd.read_csv('demo.csv', skipinitialspace=True)\n",
    "cardinfo=pd.read_csv('card_info.csv')\n",
    "transaction=pd.read_csv('cc_txn.csv')\n",
    "balance=pd.read_csv('sa_bal.csv')\n",
    "inandout=pd.read_csv('dtxn.csv')"
   ]
  },
  {
   "cell_type": "code",
   "execution_count": null,
   "metadata": {},
   "outputs": [],
   "source": [
    "train.head()"
   ]
  },
  {
   "cell_type": "code",
   "execution_count": null,
   "metadata": {},
   "outputs": [],
   "source": [
    "train['label'].value_counts()"
   ]
  },
  {
   "cell_type": "code",
   "execution_count": null,
   "metadata": {},
   "outputs": [],
   "source": [
    "ax = sns.countplot(x=\"label\", data=train, palette=\"hls\")"
   ]
  },
  {
   "cell_type": "code",
   "execution_count": null,
   "metadata": {},
   "outputs": [],
   "source": [
    "custinfo.info()"
   ]
  },
  {
   "cell_type": "code",
   "execution_count": null,
   "metadata": {},
   "outputs": [],
   "source": [
    "custinfo.head()"
   ]
  },
  {
   "cell_type": "code",
   "execution_count": null,
   "metadata": {},
   "outputs": [],
   "source": [
    "cardinfo.info()"
   ]
  },
  {
   "cell_type": "code",
   "execution_count": null,
   "metadata": {},
   "outputs": [],
   "source": [
    "cardinfo.head()"
   ]
  },
  {
   "cell_type": "code",
   "execution_count": null,
   "metadata": {},
   "outputs": [],
   "source": [
    "transaction.info()"
   ]
  },
  {
   "cell_type": "code",
   "execution_count": null,
   "metadata": {},
   "outputs": [],
   "source": [
    "transaction.head()"
   ]
  },
  {
   "cell_type": "code",
   "execution_count": null,
   "metadata": {},
   "outputs": [],
   "source": [
    "transaction['txn_dt']=pd.to_datetime(transaction['txn_dt'])\n",
    "transaction.info()\n"
   ]
  },
  {
   "cell_type": "code",
   "execution_count": null,
   "metadata": {},
   "outputs": [],
   "source": [
    "transaction[['txn_amt', 'card_no']]=transaction[['txn_amt', 'card_no']].astype(np.int64)\n"
   ]
  },
  {
   "cell_type": "code",
   "execution_count": null,
   "metadata": {},
   "outputs": [],
   "source": [
    "transaction.info()"
   ]
  },
  {
   "cell_type": "code",
   "execution_count": null,
   "metadata": {},
   "outputs": [],
   "source": [
    "transaction['year'] = pd.DatetimeIndex(transaction['txn_dt']).year\n",
    "transaction['month'] = pd.DatetimeIndex(transaction['txn_dt']).month\n",
    "transaction['date'] = pd.DatetimeIndex(transaction['txn_dt']).day\n",
    "transaction['quarter'] = pd.DatetimeIndex(transaction['txn_dt']).quarter\n",
    "transaction.head()"
   ]
  },
  {
   "cell_type": "code",
   "execution_count": null,
   "metadata": {},
   "outputs": [],
   "source": [
    "transaction1=transaction.pivot_table(index=['user_id', 'card_no'], columns=['mcc'], aggfunc='size', fill_value=0).reset_index().rename_axis(None, axis=1)\n",
    "transaction1.head()\n"
   ]
  },
  {
   "cell_type": "code",
   "execution_count": null,
   "metadata": {},
   "outputs": [],
   "source": [
    "transaction2=transaction.pivot_table(index=['user_id', 'card_no'], columns=['quarter'], aggfunc='size', fill_value=0).reset_index().rename_axis(None, axis=1)\n",
    "transaction2.columns = ['user_id', 'card_no', 'Q1', 'Q2', 'Q3', 'Q4']\n",
    "transaction2.head()"
   ]
  },
  {
   "cell_type": "code",
   "execution_count": null,
   "metadata": {},
   "outputs": [],
   "source": [
    "transaction3=(transaction.groupby(['user_id', 'card_no'], as_index=False).agg({'txn_amt': ['mean', 'min', 'max', 'count']}))\n",
    "transaction3.columns = ['user_id', 'card_no', 'txn_amt_avg', 'txn_amt_min', 'txn_amt_max', 'txn_count']\n",
    "transaction3.head()\n",
    "\n"
   ]
  },
  {
   "cell_type": "code",
   "execution_count": null,
   "metadata": {},
   "outputs": [],
   "source": [
    "transaction4=pd.merge(transaction3, transaction2, left_on=['user_id', 'card_no'], right_on=['user_id', 'card_no'])\n",
    "transaction4.head()"
   ]
  },
  {
   "cell_type": "code",
   "execution_count": null,
   "metadata": {},
   "outputs": [],
   "source": [
    "transactionfinal=pd.merge(transaction4, transaction1, left_on=['user_id', 'card_no'], right_on=['user_id', 'card_no'])\n",
    "transactionfinal.info()\n",
    "transactionfinal['txn_amt_avg']=transactionfinal['txn_amt_avg'].astype(np.int64)"
   ]
  },
  {
   "cell_type": "code",
   "execution_count": null,
   "metadata": {},
   "outputs": [],
   "source": [
    "transactionfinal.head()"
   ]
  },
  {
   "cell_type": "code",
   "execution_count": null,
   "metadata": {},
   "outputs": [],
   "source": [
    "balancefinal=balance.pivot_table(index=['user_id'], values=['max_sa_bal'], aggfunc='mean').reset_index()\n",
    "balancefinal.columns = ['user_id','avg_max_sa_bal']\n",
    "balancefinal.head()"
   ]
  },
  {
   "cell_type": "code",
   "execution_count": null,
   "metadata": {},
   "outputs": [],
   "source": [
    "inandout['amt_net'] = inandout['amt_in'] - inandout['amt_out']\n"
   ]
  },
  {
   "cell_type": "code",
   "execution_count": null,
   "metadata": {},
   "outputs": [],
   "source": [
    "inandout.head()"
   ]
  },
  {
   "cell_type": "code",
   "execution_count": null,
   "metadata": {},
   "outputs": [],
   "source": [
    "inandoutfinal= inandout.pivot_table(index=['user_id'], values=['amt_net'], aggfunc='mean').reset_index()\n",
    "inandoutfinal.columns = ['user_id','avg_net_in_out']\n",
    "inandoutfinal.head()"
   ]
  },
  {
   "cell_type": "code",
   "execution_count": null,
   "metadata": {},
   "outputs": [],
   "source": [
    "bankacc=pd.merge(balancefinal, inandoutfinal, left_on=['user_id'], right_on=['user_id'])\n",
    "bankacc.info()"
   ]
  },
  {
   "cell_type": "code",
   "execution_count": null,
   "metadata": {},
   "outputs": [],
   "source": [
    "bankacc.head()"
   ]
  },
  {
   "cell_type": "code",
   "execution_count": null,
   "metadata": {},
   "outputs": [],
   "source": [
    "custinfo['account_start_date']=pd.to_datetime(custinfo['account_start_date'])\n",
    "custinfo['year'] = pd.DatetimeIndex(custinfo['account_start_date']).year\n",
    "custinfo['tenure']= 2017 - custinfo['year'] +1\n",
    "custinfo['age']= 2017 - custinfo['birth_year'] \n",
    "custinfo.head()"
   ]
  },
  {
   "cell_type": "code",
   "execution_count": null,
   "metadata": {},
   "outputs": [],
   "source": [
    "df=pd.merge(train, custinfo, left_on=\"user_id\", right_on=\"user_id\", how=\"left\")\n",
    "df=pd.merge(df, cardinfo, left_on=\"user_id\", right_on=\"user_id\", how=\"left\")\n",
    "df.head()\n"
   ]
  },
  {
   "cell_type": "code",
   "execution_count": null,
   "metadata": {},
   "outputs": [],
   "source": [
    "df.head()"
   ]
  },
  {
   "cell_type": "code",
   "execution_count": null,
   "metadata": {},
   "outputs": [],
   "source": [
    "df=pd.merge(df, transactionfinal, left_on=['user_id', 'card_no'], right_on=['user_id', 'card_no'], how=\"left\")"
   ]
  },
  {
   "cell_type": "code",
   "execution_count": null,
   "metadata": {},
   "outputs": [],
   "source": [
    "df=pd.merge(df, bankacc, left_on=\"user_id\", right_on=\"user_id\")"
   ]
  },
  {
   "cell_type": "code",
   "execution_count": null,
   "metadata": {},
   "outputs": [],
   "source": [
    "df.head()"
   ]
  },
  {
   "cell_type": "code",
   "execution_count": null,
   "metadata": {},
   "outputs": [],
   "source": [
    "df.info()"
   ]
  },
  {
   "cell_type": "code",
   "execution_count": null,
   "metadata": {},
   "outputs": [],
   "source": [
    "df = df.sort_values(['txn_count', 'txn_amt_avg'], ascending=[False, False])"
   ]
  },
  {
   "cell_type": "code",
   "execution_count": null,
   "metadata": {},
   "outputs": [],
   "source": [
    "df1=df.drop_duplicates('user_id')\n",
    "df1.info()"
   ]
  },
  {
   "cell_type": "code",
   "execution_count": null,
   "metadata": {},
   "outputs": [],
   "source": [
    "df1.head()"
   ]
  },
  {
   "cell_type": "code",
   "execution_count": null,
   "metadata": {
    "scrolled": true
   },
   "outputs": [],
   "source": [
    "pd.options.mode.chained_assignment = None \n",
    "gender = {'M': 1,'F': 2}\n",
    "df1['gender'] = [gender[item] for item in df1['gender']] \n",
    "df1['gender']=df1['gender'] .astype('Int64')\n",
    "df1['label']=df1['label'] .astype('Int64')\n",
    "df1['birth_year']=df1['birth_year'] .astype('Int64')\n",
    "df1['marital_status']=df1['marital_status'] .astype('Int64')\n",
    "df1['family_income_segment_code']=df1['family_income_segment_code'] .astype('Int64')\n",
    "df1['individual_income_segment_code']=df1['individual_income_segment_code'] .astype('Int64')\n",
    "df1['bill_cyc']=df1['bill_cyc'] .astype('Int64')\n",
    "df1['age']=df1['age'] .astype('Int64')\n",
    "df1.info()\n"
   ]
  },
  {
   "cell_type": "code",
   "execution_count": null,
   "metadata": {},
   "outputs": [],
   "source": [
    "df1.head()"
   ]
  },
  {
   "cell_type": "code",
   "execution_count": null,
   "metadata": {},
   "outputs": [],
   "source": [
    "df1.isnull().sum()"
   ]
  },
  {
   "cell_type": "code",
   "execution_count": null,
   "metadata": {},
   "outputs": [],
   "source": [
    "import numpy as np\n",
    "marital_status = df1.marital_status.values\n",
    "marital_status = np.reshape(marital_status,(-1,1))\n",
    "from sklearn.impute import SimpleImputer\n",
    "imp = SimpleImputer(missing_values = np.nan , strategy='most_frequent')\n",
    "imp.fit(marital_status)\n",
    "df1['marital_status'] = imp.transform(marital_status)\n",
    "df1[df1['marital_status'].isnull()]"
   ]
  },
  {
   "cell_type": "code",
   "execution_count": null,
   "metadata": {},
   "outputs": [],
   "source": [
    "individual_income_segment_code = df1.individual_income_segment_code.values\n",
    "individual_income_segment_code = np.reshape(individual_income_segment_code,(-1,1))\n",
    "imp = SimpleImputer(missing_values = np.nan , strategy='most_frequent')\n",
    "imp.fit(individual_income_segment_code)\n",
    "df1['individual_income_segment_code'] = imp.transform(individual_income_segment_code)\n",
    "df1[df1['individual_income_segment_code'].isnull()]"
   ]
  },
  {
   "cell_type": "code",
   "execution_count": null,
   "metadata": {},
   "outputs": [],
   "source": [
    "family_income_segment_code = df1.family_income_segment_code.values\n",
    "family_income_segment_code = np.reshape(family_income_segment_code,(-1,1))\n",
    "imp = SimpleImputer(missing_values = np.nan , strategy='most_frequent')\n",
    "imp.fit(family_income_segment_code)\n",
    "df1['family_income_segment_code'] = imp.transform(family_income_segment_code)\n",
    "df1[df1['family_income_segment_code'].isnull()]"
   ]
  },
  {
   "cell_type": "code",
   "execution_count": null,
   "metadata": {},
   "outputs": [],
   "source": [
    "corr_matrix = df1.corr()\n",
    "print(corr_matrix['label'].sort_values(ascending=False))"
   ]
  },
  {
   "cell_type": "code",
   "execution_count": null,
   "metadata": {},
   "outputs": [],
   "source": [
    "df1['label'].value_counts()\n",
    "ax = sns.countplot(x=\"label\", data=df1, palette=\"hls\")"
   ]
  },
  {
   "cell_type": "code",
   "execution_count": null,
   "metadata": {},
   "outputs": [],
   "source": [
    "count_ac = len(df1[df1['label']==0])\n",
    "count_no_ac = len(df1[df1['label']==1])\n",
    "pct_of_no_ac = count_no_ac/(count_no_ac+count_ac)\n",
    "print(\"percentage of InActive user is\", pct_of_no_ac*100)\n",
    "pct_of_ac = count_ac/(count_no_ac+count_ac)\n",
    "print(\"percentage of Active user\", pct_of_ac*100)"
   ]
  },
  {
   "cell_type": "code",
   "execution_count": null,
   "metadata": {},
   "outputs": [],
   "source": [
    "df1.groupby('label').mean()"
   ]
  },
  {
   "cell_type": "code",
   "execution_count": null,
   "metadata": {},
   "outputs": [],
   "source": [
    "%matplotlib inline\n",
    "pd.crosstab(df1.individual_income_segment_code,df1.label).plot(kind='bar')\n",
    "plt.title('Churn Frequency for Individual Job Segment')\n",
    "plt.xlabel('individual_income_segment_code')\n",
    "plt.ylabel('Frequency of Churn')\n",
    "plt.savefig('individual_income_segment_code')"
   ]
  },
  {
   "cell_type": "code",
   "execution_count": null,
   "metadata": {},
   "outputs": [],
   "source": [
    "%matplotlib inline\n",
    "pd.crosstab(df1.family_income_segment_code,df1.label).plot(kind='bar')\n",
    "plt.title('Churn Frequency for Family Job Segment')\n",
    "plt.xlabel('individual_income_segment_code')\n",
    "plt.ylabel('Frequency of Churn')\n",
    "plt.savefig('family_income_segment_code')"
   ]
  },
  {
   "cell_type": "code",
   "execution_count": null,
   "metadata": {},
   "outputs": [],
   "source": [
    "%matplotlib inline\n",
    "pd.crosstab(df1.gender,df1.label).plot(kind='bar')\n",
    "plt.title('Churn Frequency for Gender')\n",
    "plt.xlabel('individual_income_segment_code')\n",
    "plt.ylabel('Frequency of Churn')\n",
    "plt.savefig('gender')"
   ]
  },
  {
   "cell_type": "code",
   "execution_count": null,
   "metadata": {},
   "outputs": [],
   "source": [
    "df1 = df1.select_dtypes(include=['int16', 'int32', 'int64', 'float16', 'float32', 'float64'])\n",
    "!pip install imblearn"
   ]
  },
  {
   "cell_type": "code",
   "execution_count": null,
   "metadata": {},
   "outputs": [],
   "source": [
    "df1.columns.values"
   ]
  },
  {
   "cell_type": "markdown",
   "metadata": {},
   "source": [
    "# Under Development"
   ]
  },
  {
   "cell_type": "code",
   "execution_count": null,
   "metadata": {},
   "outputs": [],
   "source": [
    "X = df1.loc[:, df1.columns != 'label']\n",
    "y = df1.loc[:, df1.columns == 'label'].astype('int')\n",
    "from imblearn.over_sampling import SMOTE\n",
    "os = SMOTE(random_state=0)\n",
    "X_train, X_test, y_train, y_test = train_test_split(X, y, test_size=0.3, random_state=0)\n",
    "columns = X_train.columns\n",
    "os_data_X,os_data_y=os.fit_sample(X_train, y_train)\n",
    "os_data_X = pd.DataFrame(data=os_data_X,columns=columns )\n",
    "os_data_y= pd.DataFrame(data=os_data_y,columns=['label'])\n",
    "# we can Check the numbers of our data\n",
    "print(\"length of oversampled data is \",len(os_data_X))\n",
    "print(\"Number of no subscription in oversampled data\",len(os_data_y[os_data_y['label']==0]))\n",
    "print(\"Number of subscription\",len(os_data_y[os_data_y['label']==1]))\n",
    "print(\"Proportion of no subscription data in oversampled data is \",len(os_data_y[os_data_y['label']==0])/len(os_data_X))\n",
    "print(\"Proportion of subscription data in oversampled data is \",len(os_data_y[os_data_y['label']==1])/len(os_data_X))"
   ]
  },
  {
   "cell_type": "code",
   "execution_count": null,
   "metadata": {
    "scrolled": true
   },
   "outputs": [],
   "source": [
    "df1.info()"
   ]
  },
  {
   "cell_type": "code",
   "execution_count": null,
   "metadata": {
    "scrolled": true
   },
   "outputs": [],
   "source": [
    "\n",
    "final_vars=df1.columns.values.tolist()\n",
    "y=['label']\n",
    "X=[i for i in final_vars if i not in y]\n",
    "from sklearn.feature_selection import RFE\n",
    "from sklearn.linear_model import LogisticRegression\n",
    "logreg = LogisticRegression()\n",
    "rfe = RFE(logreg, 20)\n",
    "rfe = rfe.fit(os_data_X, os_data_y.values.ravel())\n",
    "print(rfe.support_)\n",
    "print(rfe.ranking_)"
   ]
  },
  {
   "cell_type": "code",
   "execution_count": null,
   "metadata": {},
   "outputs": [],
   "source": [
    "cols=['tenure','age','txn_amt_avg','txn_amt_min','txn_amt_max','txn_count','Q1','Q2','Q3','Q4','mcc_cat10','mcc_cat13','mcc_cat16','mcc_cat5','mcc_cat8','mcc_cat9',] \n",
    "X=os_data_X[cols]\n",
    "y=os_data_y['label']"
   ]
  },
  {
   "cell_type": "code",
   "execution_count": null,
   "metadata": {},
   "outputs": [],
   "source": [
    "import statsmodels.api as sm\n",
    "logit_model=sm.Logit(y,X)\n",
    "result=logit_model.fit(method='lbfgs',)\n",
    "result.summary2()"
   ]
  },
  {
   "cell_type": "code",
   "execution_count": null,
   "metadata": {},
   "outputs": [],
   "source": [
    "from sklearn.model_selection import train_test_split \n",
    "train, test = train_test_split(df2, test_size = 0.3)\n",
    " \n",
    "train_y = train['label'].astype(int)\n",
    "test_y = test['label']\n",
    " \n",
    "train_x = train\n",
    "train_x.pop('label')\n",
    "test_x = test\n",
    "test_x.pop('label')"
   ]
  },
  {
   "cell_type": "code",
   "execution_count": null,
   "metadata": {},
   "outputs": [],
   "source": [
    "from sklearn.linear_model import LogisticRegression\n",
    "from sklearn import metrics\n",
    "X_train, X_test, y_train, y_test = train_test_split(X, y, test_size=0.3, random_state=0)\n",
    "logreg = LogisticRegression()\n",
    "logreg.fit(X_train, y_train)"
   ]
  },
  {
   "cell_type": "code",
   "execution_count": null,
   "metadata": {},
   "outputs": [],
   "source": [
    "y_pred = logreg.predict(X_test)\n",
    "print('Accuracy of logistic regression classifier on test set: {:.2f}'.format(logreg.score(X_test, y_test)))"
   ]
  },
  {
   "cell_type": "code",
   "execution_count": null,
   "metadata": {},
   "outputs": [],
   "source": [
    "from sklearn.metrics import confusion_matrix\n",
    "confusion_matrix = confusion_matrix(y_test, y_pred)\n",
    "print(confusion_matrix)"
   ]
  },
  {
   "cell_type": "code",
   "execution_count": null,
   "metadata": {},
   "outputs": [],
   "source": [
    "from sklearn.metrics import classification_report\n",
    "print(classification_report(y_test, y_pred))"
   ]
  },
  {
   "cell_type": "code",
   "execution_count": null,
   "metadata": {},
   "outputs": [],
   "source": []
  },
  {
   "cell_type": "code",
   "execution_count": null,
   "metadata": {},
   "outputs": [],
   "source": []
  },
  {
   "cell_type": "code",
   "execution_count": null,
   "metadata": {},
   "outputs": [],
   "source": []
  },
  {
   "cell_type": "code",
   "execution_count": null,
   "metadata": {},
   "outputs": [],
   "source": []
  }
 ],
 "metadata": {
  "kernelspec": {
   "display_name": "Python 3",
   "language": "python",
   "name": "python3"
  },
  "language_info": {
   "codemirror_mode": {
    "name": "ipython",
    "version": 3
   },
   "file_extension": ".py",
   "mimetype": "text/x-python",
   "name": "python",
   "nbconvert_exporter": "python",
   "pygments_lexer": "ipython3",
   "version": "3.7.3"
  }
 },
 "nbformat": 4,
 "nbformat_minor": 2
}
